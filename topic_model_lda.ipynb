{
 "cells": [
  {
   "cell_type": "code",
   "execution_count": 1,
   "metadata": {},
   "outputs": [],
   "source": [
    "import numpy as np\n",
    "import pandas as pd\n",
    "import scipy\n",
    "import matplotlib.pyplot as plt\n",
    "import sklearn as skt\n",
    "import nltk\n",
    "from nltk import sent_tokenize, word_tokenize\n",
    "from nltk import WordNetLemmatizer\n",
    "from nltk.corpus import stopwords\n",
    "from collections import Counter\n",
    "import re\n"
   ]
  },
  {
   "cell_type": "markdown",
   "metadata": {},
   "source": [
    "## Scraping newspaper articles to create a corpus using newspaper3k"
   ]
  },
  {
   "cell_type": "code",
   "execution_count": 14,
   "metadata": {},
   "outputs": [],
   "source": [
    "#import newspaper\n",
    "#times_paper= newspaper.build('https://www.indiatimes.com/',memoize_articles=False)\n",
    "# n=150 # We are going to use 150 articles\n",
    "# document=[0]*n\n",
    "# for i in range(3,n+3):\n",
    "#     sample=times_paper.articles[i]\n",
    "#     sample.download()\n",
    "#     sample.parse()\n",
    "#     document[i-3]= sample.text"
   ]
  },
  {
   "cell_type": "markdown",
   "metadata": {},
   "source": [
    "### Let us check a sample article scraped using the code above on April 26, 2021."
   ]
  },
  {
   "cell_type": "code",
   "execution_count": 2,
   "metadata": {},
   "outputs": [
    {
     "data": {
      "text/plain": [
       "'In the midst of the due to rising cases of COVID, an auto driver from Ranchi is showing hope for those in a medical emergency, as per ANI.\\n\\nRavi Agarwal provides rides for free to the needy who have to go to hospitals at a time when due to the pandemic majority of auto drivers do not want to take passengers to the hospital.\\n\\nANI\\n\\nHe has been doing so since April 15.\\n\\n\"There was a woman who needed to go to Rajendra Institute of Medical Sciences (RIMS). No auto driver was ready to take her there out of fear. She was ready to pay whatever money was being demanded. I offered to take her and dropped her near the trauma centre there. I don\\'t know if she was a Covid patient or not, but I declined to accept the money she offered. When I was returning, I realised that many people like her are being denied transport services because of the fear of Covid,\" he said.\\n\\nANI\\n\\nPeople like him show that all is not lost. He is doing his bit to help those in need.\\n\\n'"
      ]
     },
     "execution_count": 2,
     "metadata": {},
     "output_type": "execute_result"
    }
   ],
   "source": [
    "document=np.load('indiatimes_april26.npy')\n",
    "document[5]"
   ]
  },
  {
   "cell_type": "code",
   "execution_count": 12,
   "metadata": {},
   "outputs": [],
   "source": [
    "#np.save('indiatimes_april26',document)\n"
   ]
  },
  {
   "cell_type": "markdown",
   "metadata": {},
   "source": [
    "### Text preprocessing and exploratory data analysis\n",
    "#### We create a data preparation function that performs the following text pre-preprocessing steps, strips tags, normalizes URLs, replaces emailids, replaces dollar numbers, lemmatizes using WordNet."
   ]
  },
  {
   "cell_type": "code",
   "execution_count": 4,
   "metadata": {},
   "outputs": [],
   "source": [
    "from nltk.corpus import wordnet as wn\n",
    "from nltk.stem.wordnet import WordNetLemmatizer\n",
    "def prepare_data(input_text):\n",
    "    \"\"\"\n",
    "    Inputs: input_text: string \n",
    "    Returns: clean_document : string \n",
    "    \"\"\"\n",
    "    \n",
    "    def strip_tags(string):\n",
    "        return re.sub(r'<.*?>', '', string)\n",
    "\n",
    "    def normalize_URL(sample):\n",
    "        \"\"\"Remove URLs from a sample string\"\"\"\n",
    "        return re.sub(r\"http\\S+\", \"httpadd\", sample)\n",
    "    def replace_emailid(sample):\n",
    "        return re.sub(r\"\\S+@\\S+\",\"emailaddr\",sample)\n",
    "    def get_lemma(word):\n",
    "        lemma = wn.morphy(word)\n",
    "        if lemma is None:\n",
    "            return word\n",
    "        else:\n",
    "            return lemma\n",
    "    \n",
    "    text=normalize_URL(input_text)\n",
    "    text=replace_emailid(text)\n",
    "    text=re.sub(r\"[+$]\\S+\",\"dollarnumber\",text)\n",
    "    tokens = word_tokenize(text)\n",
    "    tokens = [word for word in tokens if word.isalpha()]\n",
    "    tokens = [word.lower() for word in tokens]\n",
    "    \n",
    "    en_stop = set(nltk.corpus.stopwords.words('english'))\n",
    "    tokens = [word for word in tokens if word not in en_stop]\n",
    "    tokens = [get_lemma(word) for word in tokens]\n",
    "    tokens= [WordNetLemmatizer().lemmatize(word) for word in tokens]\n",
    "    clean_doc = ''\n",
    "    for i in range(len(tokens)):\n",
    "        clean_doc += ' ' + tokens[i] \n",
    "    return clean_doc"
   ]
  },
  {
   "cell_type": "code",
   "execution_count": 5,
   "metadata": {},
   "outputs": [],
   "source": [
    "corpus=[prepare_data(article) for article in document] # Preparing clean corpus"
   ]
  },
  {
   "cell_type": "markdown",
   "metadata": {},
   "source": [
    "### Next, we visualize the most frequent words appearing in the corpus"
   ]
  },
  {
   "cell_type": "code",
   "execution_count": 7,
   "metadata": {},
   "outputs": [
    {
     "data": {
      "image/png": "[encoded data removed]",
      "text/plain": [
       "<Figure size 432x288 with 1 Axes>"
      ]
     },
     "metadata": {
      "needs_background": "light"
     },
     "output_type": "display_data"
    }
   ],
   "source": [
    "from collections import Counter\n",
    "words_collection=' '.join(corpus).split()\n",
    "\n",
    "counts = dict(Counter(words_collection).most_common(30))\n",
    "\n",
    "labels, values = zip(*counts.items())\n",
    "\n",
    "# Sorts  values in descending order\n",
    "indSort = np.argsort(values)[::-1]\n",
    "\n",
    "# Rearranges  data\n",
    "labels = np.array(labels)[indSort]\n",
    "values = np.array(values)[indSort]\n",
    "\n",
    "indexes = np.arange(len(labels))\n",
    "\n",
    "bar_width = 0.35\n",
    "\n",
    "plt.bar(indexes,values)\n",
    "plt.xticks(indexes + bar_width, labels)\n",
    "plt.xticks(rotation = 90)\n",
    "plt.show()\n",
    "\n",
    "\n",
    "\n"
   ]
  },
  {
   "cell_type": "markdown",
   "metadata": {},
   "source": [
    "### Creating a dictionary"
   ]
  },
  {
   "cell_type": "code",
   "execution_count": 8,
   "metadata": {},
   "outputs": [
    {
     "name": "stdout",
     "output_type": "stream",
     "text": [
      "Dictionary(6117 unique tokens: ['accept', 'align', 'best', 'change', 'continue']...)\n"
     ]
    }
   ],
   "source": [
    "import gensim\n",
    "from gensim import corpora\n",
    "corpus_tokenized=[article.split() for article in corpus]\n",
    "dictionary = corpora.Dictionary(corpus_tokenized)\n",
    "print(dictionary)"
   ]
  },
  {
   "cell_type": "markdown",
   "metadata": {},
   "source": [
    "### Creating a BagofWords(BoW) model  "
   ]
  },
  {
   "cell_type": "code",
   "execution_count": 9,
   "metadata": {},
   "outputs": [],
   "source": [
    "BoW_corpus = [dictionary.doc2bow(article.split()) for article in corpus]"
   ]
  },
  {
   "cell_type": "markdown",
   "metadata": {},
   "source": [
    "### Next we create a Topic model using Latent Dirchlet Allocation, with gensim. "
   ]
  },
  {
   "cell_type": "code",
   "execution_count": 13,
   "metadata": {},
   "outputs": [
    {
     "name": "stdout",
     "output_type": "stream",
     "text": [
      "(0, '0.007*\"time\" + 0.006*\"people\" + 0.005*\"help\" + 0.005*\"one\"')\n",
      "(1, '0.010*\"case\" + 0.010*\"say\" + 0.009*\"state\" + 0.008*\"government\"')\n",
      "(2, '0.007*\"covid\" + 0.006*\"april\" + 0.006*\"oxygen\" + 0.006*\"say\"')\n",
      "(3, '0.007*\"vaccine\" + 0.007*\"also\" + 0.005*\"india\" + 0.005*\"one\"')\n"
     ]
    }
   ],
   "source": [
    "NUM_TOPICS = 4\n",
    "ldamodel = gensim.models.ldamodel.LdaModel(BoW_corpus, num_topics = NUM_TOPICS, id2word=dictionary, passes=15)\n",
    "topics = ldamodel.print_topics(num_words=4)\n",
    "for topic in topics:\n",
    "    print(topic)"
   ]
  },
  {
   "cell_type": "markdown",
   "metadata": {},
   "source": []
  },
  {
   "cell_type": "markdown",
   "metadata": {},
   "source": [
    "#### In order to get a rough idea of the optimal number of topics we compute Coherence Score for the corpus for the trained model using different number of topics. A more careful analysis should use a different validation set."
   ]
  },
  {
   "cell_type": "code",
   "execution_count": 11,
   "metadata": {},
   "outputs": [],
   "source": [
    "from gensim.models import CoherenceModel# Compute Coherence Score\n",
    "list_for_plot=[]\n",
    "m=10\n",
    "for NUM_TOPICS in range(3,3+m):\n",
    "    ldamodel = gensim.models.ldamodel.LdaModel(BoW_corpus, num_topics = NUM_TOPICS, id2word=dictionary, passes=15)\n",
    "    coherence_model_lda = CoherenceModel(model=ldamodel, texts=corpus_tokenized, dictionary=dictionary, coherence='c_v')\n",
    "    list_for_plot.append([NUM_TOPICS,coherence_model_lda.get_coherence()])\n",
    "list_for_plot=np.asarray(list_for_plot).reshape(m,2)"
   ]
  },
  {
   "cell_type": "code",
   "execution_count": 12,
   "metadata": {},
   "outputs": [
    {
     "data": {
      "text/plain": [
       "Text(0, 0.5, 'Coherence Score')"
      ]
     },
     "execution_count": 12,
     "metadata": {},
     "output_type": "execute_result"
    },
    {
     "data": {
      "image/png": "[encoded data removed]",
      "text/plain": [
       "<Figure size 432x288 with 1 Axes>"
      ]
     },
     "metadata": {
      "needs_background": "light"
     },
     "output_type": "display_data"
    }
   ],
   "source": [
    "plt.plot(list_for_plot[:,0],list_for_plot[:,1])\n",
    "plt.xlabel(\"NUM_TOPICS\")\n",
    "plt.ylabel(\"Coherence Score\")"
   ]
  },
  {
   "cell_type": "markdown",
   "metadata": {},
   "source": [
    "A choice of 4 or 7 topics seems to be fine, based on this preliminary validation analysis. "
   ]
  },
  {
   "cell_type": "markdown",
   "metadata": {},
   "source": [
    "### Visualising the topics using PyldaVis"
   ]
  },
  {
   "cell_type": "code",
   "execution_count": 15,
   "metadata": {},
   "outputs": [
    {
     "name": "stderr",
     "output_type": "stream",
     "text": [
      "/home/rajarshi/anaconda3/lib/python3.8/site-packages/ipykernel/ipkernel.py:287: DeprecationWarning: `should_run_async` will not call `transform_cell` automatically in the future. Please pass the result to `transformed_cell` argument and any exception that happen during thetransform in `preprocessing_exc_tuple` in IPython 7.17 and above.\n",
      "  and should_run_async(code)\n"
     ]
    },
    {
     "data": {
      "text/html": [
       "\n",
       "<link rel=\"stylesheet\" type=\"text/css\" href=\"https://cdn.jsdelivr.net/gh/bmabey/pyLDAvis@3.3.1/pyLDAvis/js/ldavis.v1.0.0.css\">\n",
       "\n",
       "\n",
       "<div id=\"ldavis_el161381401384847963205158624678\"></div>\n",
       "<script type=\"text/javascript\">\n",
       "\n",
       "var ldavis_el161381401384847963205158624678_data = {\"mdsDat\": {\"x\": [-0.07614303753695274, 0.03998682932005347, -0.06678724138319964, 0.10294344960009888], \"y\": [0.014964947572646967, -0.10955725106815643, 0.024847211420726552, 0.06974509207478288], \"topics\": [1, 2, 3, 4], \"cluster\": [1, 1, 1, 1], \"Freq\": [40.35188712594685, 26.657010665612674, 20.4946198460704, 12.496482362370072]}, \"tinfo\": {\"Term\": [\"vaccine\", \"oxygen\", \"film\", \"fire\", \"government\", \"help\", \"print\", \"saffron\", \"bed\", \"patient\", \"remdesivir\", \"burning\", \"stubble\", \"india\", \"indian\", \"child\", \"covid\", \"hospital\", \"time\", \"case\", \"total\", \"farmer\", \"mumbai\", \"plasma\", \"bank\", \"website\", \"mg\", \"rise\", \"recovery\", \"view\", \"saffron\", \"kumbh\", \"kashmir\", \"racing\", \"lam\", \"serum\", \"mela\", \"hotel\", \"airborne\", \"land\", \"turkish\", \"fuel\", \"anand\", \"dry\", \"cough\", \"population\", \"idli\", \"kit\", \"export\", \"formula\", \"bharat\", \"haridwar\", \"suggest\", \"kejriwal\", \"announcement\", \"astrazeneca\", \"baby\", \"remote\", \"irrigation\", \"grower\", \"dose\", \"government\", \"vaccine\", \"transmission\", \"evidence\", \"vaccinate\", \"event\", \"mahindra\", \"lockdown\", \"production\", \"vaccination\", \"chief\", \"gathering\", \"state\", \"minister\", \"district\", \"worker\", \"announce\", \"people\", \"say\", \"age\", \"free\", \"also\", \"case\", \"would\", \"report\", \"year\", \"per\", \"home\", \"india\", \"one\", \"get\", \"day\", \"death\", \"even\", \"new\", \"health\", \"two\", \"like\", \"take\", \"make\", \"april\", \"country\", \"concentrators\", \"spear\", \"britney\", \"faasil\", \"kid\", \"yoga\", \"amazon\", \"child\", \"privacy\", \"founder\", \"gurmeet\", \"binge\", \"laundry\", \"nostril\", \"yadav\", \"needy\", \"wastage\", \"ndhm\", \"regulation\", \"germ\", \"cookie\", \"european\", \"morris\", \"align\", \"cinema\", \"croma\", \"pichai\", \"sundar\", \"fame\", \"cred\", \"survive\", \"film\", \"clothes\", \"oxygen\", \"experience\", \"cylinder\", \"help\", \"startup\", \"star\", \"need\", \"season\", \"role\", \"medium\", \"love\", \"life\", \"please\", \"story\", \"make\", \"watch\", \"hospital\", \"ensure\", \"time\", \"family\", \"release\", \"many\", \"people\", \"covid\", \"one\", \"twitter\", \"april\", \"patient\", \"like\", \"show\", \"also\", \"new\", \"emailaddr\", \"say\", \"take\", \"india\", \"get\", \"u\", \"health\", \"chip\", \"style\", \"saliva\", \"kiyana\", \"devrari\", \"stripe\", \"bhandup\", \"jacqueline\", \"oral\", \"rna\", \"pakistanstandswithindia\", \"almora\", \"carlyle\", \"colleague\", \"tissue\", \"match\", \"floral\", \"fashion\", \"prayer\", \"yash\", \"raipur\", \"sample\", \"vintage\", \"classy\", \"mini\", \"edgy\", \"outfit\", \"sonia\", \"jane\", \"bcci\", \"fire\", \"print\", \"verma\", \"mumbai\", \"bold\", \"favourite\", \"cell\", \"mall\", \"total\", \"kapoor\", \"recovery\", \"rise\", \"ipl\", \"india\", \"infection\", \"case\", \"hospital\", \"new\", \"hour\", \"due\", \"country\", \"report\", \"time\", \"patient\", \"say\", \"cent\", \"u\", \"last\", \"virus\", \"day\", \"death\", \"per\", \"april\", \"take\", \"also\", \"emailaddr\", \"covid\", \"one\", \"people\", \"state\", \"stubble\", \"mg\", \"moon\", \"jon\", \"debate\", \"burn\", \"straw\", \"mtar\", \"i\", \"burning\", \"danny\", \"mccarthy\", \"ipo\", \"tillage\", \"joffrey\", \"snow\", \"paddy\", \"mosque\", \"anthem\", \"daenerys\", \"enquiry\", \"convert\", \"clarity\", \"listen\", \"hundred\", \"dilemma\", \"protestors\", \"tune\", \"amend\", \"oppose\", \"remdesivir\", \"combine\", \"capture\", \"tyrion\", \"plasma\", \"street\", \"bank\", \"view\", \"httpadd\", \"indian\", \"moment\", \"bed\", \"covid\", \"patient\", \"farmer\", \"space\", \"time\", \"also\", \"india\", \"oxygen\", \"use\", \"take\", \"country\", \"even\", \"one\", \"help\", \"hospital\", \"u\", \"say\", \"come\", \"first\", \"case\", \"get\", \"year\", \"death\"], \"Freq\": [116.0, 89.0, 57.0, 37.0, 101.0, 83.0, 28.0, 40.0, 45.0, 74.0, 17.0, 14.0, 13.0, 167.0, 45.0, 24.0, 96.0, 102.0, 108.0, 144.0, 32.0, 22.0, 28.0, 14.0, 13.0, 23.0, 10.0, 32.0, 25.0, 13.0, 39.47512425952383, 19.826202368811376, 15.385109134207763, 13.600029821974712, 12.710139571276818, 12.70917894364677, 12.702502023113492, 11.819171407017297, 10.039807689556929, 10.016323276150521, 9.141908485245718, 9.138135089649488, 12.449312414585439, 8.24915729557403, 8.242911819717621, 8.234035089836755, 8.220422940468517, 7.359544202702537, 7.357073518703451, 7.356447295604502, 7.3546956860668615, 7.343566787047522, 7.337537731660093, 7.324845718350288, 7.305652713404572, 7.290172366697663, 7.285978696513285, 6.4677445649638114, 6.466592649564406, 6.46651096829063, 28.268056959311632, 89.08575245307331, 101.36481316788783, 18.976636138398096, 18.068974276544292, 18.033918349352955, 18.732868499706626, 21.381415217766865, 24.86823660280404, 16.914238429737463, 33.58928057959273, 26.40290346981742, 10.28598108610679, 79.62764737947428, 33.00874593603677, 19.09310106845281, 19.649513905414693, 28.205563105437022, 103.5105760411992, 103.71751310485371, 28.483782090267773, 31.761080536111418, 85.1520493285551, 75.59052598852807, 39.22076737672438, 43.15357968666705, 55.22120458459449, 37.26804876922015, 29.446906235146002, 66.42142462042041, 53.302926153140824, 41.84291498635245, 37.259364025239186, 36.128783495292595, 35.66418599509926, 41.74952466707417, 32.81733250318297, 29.623516507921632, 34.24705638665786, 31.37162701526979, 31.48595287333434, 30.739522864608844, 29.06837985359618, 13.524856089847464, 12.688949136437145, 11.024465456960835, 10.196399734537572, 9.355781216854592, 8.5264988630148, 8.520647225633093, 22.497503562869017, 7.6981310581132085, 7.697729357596226, 6.867233600702266, 6.86600405583628, 6.8646190883822085, 6.864001087586852, 6.857064720450906, 6.839168063089847, 6.837846279299181, 6.035180389565082, 6.0336040263422985, 6.033380808144573, 6.032683481873991, 6.03267933112238, 6.032124513990429, 6.031504668416579, 6.031164306784509, 6.028909065076081, 6.027679059015472, 6.025694999745602, 6.018221340873396, 7.496844970703145, 7.45781222494626, 45.37749980904455, 10.738078354057027, 62.43176120834226, 23.625445408541307, 17.533003555729433, 52.27964999348985, 8.49356311017927, 14.061529825313777, 40.58884962225061, 18.53477915544577, 13.525025809468875, 21.255856949965054, 15.135597682248152, 29.756315842153413, 13.624337614893463, 19.53910792859725, 41.36372669114634, 20.599206200388824, 41.04859056019823, 14.1081925749202, 39.241932569387735, 22.058337439460548, 17.75765883590183, 23.152759659904085, 45.62106591355486, 31.567919684105256, 34.56702404539534, 22.191681718535108, 27.280873993614257, 25.953164774426764, 26.86577116087634, 23.917728423510667, 34.31541470665293, 26.760982208104245, 21.930324570232496, 31.194577102127013, 24.079340243442697, 28.203613748329193, 23.335914803084403, 22.561305227070253, 21.15772211321939, 12.148232565015364, 10.554839518235754, 9.753418588100226, 6.561944254823807, 5.776375829700874, 5.775821268596828, 5.774175668798952, 5.774078868810841, 5.771994300568713, 5.771686171668831, 5.7695704005001325, 4.977705366626782, 4.977004009936371, 4.975898788094099, 4.975146726648011, 4.940604732355892, 4.181930393306937, 4.1817864343502595, 4.1786629504848225, 4.17872074681472, 4.171644419478754, 9.757847276200954, 3.38579268596571, 3.3852047944628274, 3.3850799827565456, 3.3850551622467737, 3.3848285864504275, 3.3846973923273476, 3.3846247036915873, 3.3840903535740696, 31.141312136919705, 23.31417430855774, 6.566857297443797, 20.112406555300208, 5.774364659251929, 4.583468090507527, 8.959640247502174, 7.3693242347768555, 20.99595004238186, 11.28600067678128, 16.079611258693813, 18.188072432685487, 7.560444287492684, 54.45076913030594, 19.374376497964665, 44.88512337188945, 31.134189359772595, 30.839917395917052, 18.949914577938756, 17.911411684249234, 23.295730542324957, 20.930350144212174, 25.822903787964528, 20.86796556579408, 32.540301022961955, 9.893950186956406, 19.66122642024099, 16.387680589352836, 13.067460853574774, 18.626260803772674, 18.435687511429247, 17.112466422674096, 18.21976751450677, 18.994244008391355, 23.388481241555404, 16.370482103553183, 17.993034285212808, 18.927713695683934, 18.752001506277075, 17.055630291926153, 12.925222941886071, 9.385312884960875, 7.959214848939557, 6.550997618671906, 5.844213282266953, 5.843454844143236, 5.843233020450268, 5.840586702709591, 5.837986219884031, 12.929838431357311, 5.134464378144666, 5.131994913991561, 5.131824114072025, 4.426862796555092, 4.426582598206079, 4.426325317314625, 4.426093115905026, 4.4254324012795765, 3.718994853572012, 3.718186256484583, 3.717292908044675, 3.715086778451059, 3.010827037818808, 3.010534083526437, 3.010499058732811, 3.010402632449123, 3.010377336764837, 3.01042663091883, 3.0102928016147876, 3.0101667555982177, 13.57641601232786, 7.261326377710899, 7.256467876708573, 5.135557497629704, 9.92808389609994, 6.554124338211585, 9.367792704860102, 7.952555814101907, 8.62419212149528, 16.328387556395835, 7.266356111037623, 14.622496767120023, 19.809919498037825, 17.214359169399327, 9.387140227897492, 7.256854446653044, 17.24672553794918, 20.62233039632827, 18.040425413155546, 14.234210175356113, 11.282813510046319, 12.140325100001471, 11.312494644418134, 10.674809036980145, 12.089030641128028, 11.004794481525852, 11.35766192643122, 10.17713698788635, 11.74308513321494, 9.248802670789058, 8.937634620922884, 10.027015533544434, 9.415571712225098, 9.23167684392023, 8.841027592003535], \"Total\": [116.0, 89.0, 57.0, 37.0, 101.0, 83.0, 28.0, 40.0, 45.0, 74.0, 17.0, 14.0, 13.0, 167.0, 45.0, 24.0, 96.0, 102.0, 108.0, 144.0, 32.0, 22.0, 28.0, 14.0, 13.0, 23.0, 10.0, 32.0, 25.0, 13.0, 40.087822591678915, 20.445946572831573, 15.983326275511871, 14.197992295206399, 13.304988016206424, 13.305345203930804, 13.30448813082401, 12.412382451545433, 10.627606642967685, 10.625368631047026, 9.734245397891044, 9.733422611743352, 13.286777853432177, 8.84131670167303, 8.840884589998716, 8.840427113190778, 8.838848103370626, 7.948844222758019, 7.94858628993604, 7.948600154384869, 7.948383188175066, 7.947535255663816, 7.946792753538223, 7.946266317844212, 7.944700915006448, 7.943765380612876, 7.943507309378517, 7.05614168385866, 7.055847581035546, 7.055857905108522, 30.85566015058847, 101.55553807046923, 116.65905008434898, 21.1508838035564, 20.256407594453886, 20.323822322491267, 21.16443226758847, 24.46679200805603, 29.036955417128564, 19.345179170022245, 41.19249628008058, 32.20139573341545, 11.449510153752813, 112.19277780666462, 42.52237939517018, 23.555283136936957, 24.472624876320538, 37.50487743835829, 176.22586523839905, 179.19547636315764, 38.47962574501985, 44.953077757747245, 163.4782756730917, 144.57403200059287, 61.5974707051319, 71.35987818644429, 100.52256856477092, 63.09297180548834, 46.31865361924363, 167.1162329122111, 118.88669453534814, 89.60855762968365, 73.4453839302345, 72.51559498296976, 70.99549458636105, 106.74064361897169, 65.4263329292949, 56.06949345141612, 85.15037835950233, 86.58553636710532, 95.96050028295937, 77.62920163684323, 75.55689736888435, 14.131498322349309, 13.299644200938662, 11.633899090737454, 10.800858967182048, 9.967622842297335, 9.135160565034388, 9.134652487984464, 24.195642373798403, 8.302334806891821, 8.302124322026025, 7.469566802037873, 7.469814537438916, 7.469421943562041, 7.469419816496889, 7.468818417066543, 7.470374755431468, 7.469428076378468, 6.6368085135671855, 6.636658015228215, 6.636647205305412, 6.636615050427125, 6.636612493440997, 6.6367288734149685, 6.6365625275610896, 6.636662476756421, 6.636631557599057, 6.637000177566081, 6.637031007419609, 6.636217431464249, 8.29372150881529, 8.317233756739583, 57.33251069745562, 12.545481973682392, 89.27449315460768, 31.345451534375606, 22.822239255439197, 83.7692280997458, 10.028365377380595, 18.7698069771187, 75.8720936715268, 28.838910844051316, 19.20029362248197, 35.25515612044845, 22.468745953654945, 57.73617784468782, 19.453280751836743, 32.65919797328217, 95.96050028295937, 35.615632917269814, 102.86079418111049, 21.70984553310877, 108.34988763186001, 44.81275843547949, 32.82002065049015, 51.92417769931561, 176.22586523839905, 96.67633965352576, 118.88669453534814, 51.7238699547284, 77.62920163684323, 74.19555507248332, 85.15037835950233, 69.84510715824193, 163.4782756730917, 106.74064361897169, 61.70777148710594, 179.19547636315764, 86.58553636710532, 167.1162329122111, 89.60855762968365, 76.40995027095852, 65.4263329292949, 12.767494495192507, 11.172769865645092, 10.375968078231645, 7.187373751093653, 6.388504876013998, 6.388525492168774, 6.388380735820619, 6.388861487876352, 6.388853169820909, 6.388911220231094, 6.389191371838887, 5.591271335142474, 5.591551905370847, 5.591271291307991, 5.59153965728225, 5.5914557958531885, 4.793875951903248, 4.793908791182554, 4.794234805628766, 4.794439645406739, 4.793869474326705, 11.266396728419908, 3.996522492022301, 3.9965464034960783, 3.9965763434853616, 3.9965801076766856, 3.99658956376396, 3.996560539753257, 3.9967039971092992, 3.9965906752621922, 37.04639894007025, 28.92572343658847, 8.077948036875304, 28.285197873272214, 7.220461408234039, 5.606519046389445, 12.133904862090093, 9.739918571814632, 32.775491636824775, 16.25995053012269, 25.565106592042262, 32.26455054535784, 10.473412715618347, 167.1162329122111, 41.80765921629572, 144.57403200059287, 102.86079418111049, 106.74064361897169, 48.67831620481578, 45.635381594732564, 75.55689736888435, 71.35987818644429, 108.34988763186001, 74.19555507248332, 179.19547636315764, 18.34717698398276, 76.40995027095852, 53.72705471984133, 33.82005603116241, 73.4453839302345, 72.51559498296976, 63.09297180548834, 77.62920163684323, 86.58553636710532, 163.4782756730917, 61.70777148710594, 96.67633965352576, 118.88669453534814, 176.22586523839905, 112.19277780666462, 13.571495274884427, 10.025574113380374, 8.609480722298056, 7.189449016577212, 6.479884730435536, 6.480234322895932, 6.480320321561781, 6.480509898650226, 6.481404948268096, 14.461520054296717, 5.77120551469032, 5.771701663452306, 5.771534659645576, 5.062062689766862, 5.062066395824426, 5.062105043413199, 5.062252875205386, 5.062301692653712, 4.352826820059668, 4.352981664342001, 4.353125140207943, 4.353391985844073, 3.6436383760238336, 3.6436771045834497, 3.643693246578722, 3.6437054051473603, 3.643697550273956, 3.6438023941741275, 3.6437129167438806, 3.6437443593043555, 17.724527543484143, 9.526466425872714, 9.56380138868796, 6.661858099689077, 14.094430410677058, 8.87602265694425, 13.536800775104794, 13.073621396539783, 16.173603618669837, 45.758920023229905, 12.84530266044478, 45.10201901874845, 96.67633965352576, 74.19555507248332, 22.461764972228224, 15.037095151339553, 108.34988763186001, 163.4782756730917, 167.1162329122111, 89.27449315460768, 48.895345965886335, 86.58553636710532, 75.55689736888435, 70.99549458636105, 118.88669453534814, 83.7692280997458, 102.86079418111049, 76.40995027095852, 179.19547636315764, 57.07011553348778, 49.987416541818185, 144.57403200059287, 89.60855762968365, 100.52256856477092, 72.51559498296976], \"Category\": [\"Default\", \"Default\", \"Default\", \"Default\", \"Default\", \"Default\", \"Default\", \"Default\", \"Default\", \"Default\", \"Default\", \"Default\", \"Default\", \"Default\", \"Default\", \"Default\", \"Default\", \"Default\", \"Default\", \"Default\", \"Default\", \"Default\", \"Default\", \"Default\", \"Default\", \"Default\", \"Default\", \"Default\", \"Default\", \"Default\", \"Topic1\", \"Topic1\", \"Topic1\", \"Topic1\", \"Topic1\", \"Topic1\", \"Topic1\", \"Topic1\", \"Topic1\", \"Topic1\", \"Topic1\", \"Topic1\", \"Topic1\", \"Topic1\", \"Topic1\", \"Topic1\", \"Topic1\", \"Topic1\", \"Topic1\", \"Topic1\", \"Topic1\", \"Topic1\", \"Topic1\", \"Topic1\", \"Topic1\", \"Topic1\", \"Topic1\", \"Topic1\", \"Topic1\", \"Topic1\", \"Topic1\", \"Topic1\", \"Topic1\", \"Topic1\", \"Topic1\", \"Topic1\", \"Topic1\", \"Topic1\", \"Topic1\", \"Topic1\", \"Topic1\", \"Topic1\", \"Topic1\", \"Topic1\", \"Topic1\", \"Topic1\", \"Topic1\", \"Topic1\", \"Topic1\", \"Topic1\", \"Topic1\", \"Topic1\", \"Topic1\", \"Topic1\", \"Topic1\", \"Topic1\", \"Topic1\", \"Topic1\", \"Topic1\", \"Topic1\", \"Topic1\", \"Topic1\", \"Topic1\", \"Topic1\", \"Topic1\", \"Topic1\", \"Topic1\", \"Topic1\", \"Topic1\", \"Topic1\", \"Topic1\", \"Topic1\", \"Topic1\", \"Topic2\", \"Topic2\", \"Topic2\", \"Topic2\", \"Topic2\", \"Topic2\", \"Topic2\", \"Topic2\", \"Topic2\", \"Topic2\", \"Topic2\", \"Topic2\", \"Topic2\", \"Topic2\", \"Topic2\", \"Topic2\", \"Topic2\", \"Topic2\", \"Topic2\", \"Topic2\", \"Topic2\", \"Topic2\", \"Topic2\", \"Topic2\", \"Topic2\", \"Topic2\", \"Topic2\", \"Topic2\", \"Topic2\", \"Topic2\", \"Topic2\", \"Topic2\", \"Topic2\", \"Topic2\", \"Topic2\", \"Topic2\", \"Topic2\", \"Topic2\", \"Topic2\", \"Topic2\", \"Topic2\", \"Topic2\", \"Topic2\", \"Topic2\", \"Topic2\", \"Topic2\", \"Topic2\", \"Topic2\", \"Topic2\", \"Topic2\", \"Topic2\", \"Topic2\", \"Topic2\", \"Topic2\", \"Topic2\", \"Topic2\", \"Topic2\", \"Topic2\", \"Topic2\", \"Topic2\", \"Topic2\", \"Topic2\", \"Topic2\", \"Topic2\", \"Topic2\", \"Topic2\", \"Topic2\", \"Topic2\", \"Topic2\", \"Topic2\", \"Topic2\", \"Topic2\", \"Topic3\", \"Topic3\", \"Topic3\", \"Topic3\", \"Topic3\", \"Topic3\", \"Topic3\", \"Topic3\", \"Topic3\", \"Topic3\", \"Topic3\", \"Topic3\", \"Topic3\", \"Topic3\", \"Topic3\", \"Topic3\", \"Topic3\", \"Topic3\", \"Topic3\", \"Topic3\", \"Topic3\", \"Topic3\", \"Topic3\", \"Topic3\", \"Topic3\", \"Topic3\", \"Topic3\", \"Topic3\", \"Topic3\", \"Topic3\", \"Topic3\", \"Topic3\", \"Topic3\", \"Topic3\", \"Topic3\", \"Topic3\", \"Topic3\", \"Topic3\", \"Topic3\", \"Topic3\", \"Topic3\", \"Topic3\", \"Topic3\", \"Topic3\", \"Topic3\", \"Topic3\", \"Topic3\", \"Topic3\", \"Topic3\", \"Topic3\", \"Topic3\", \"Topic3\", \"Topic3\", \"Topic3\", \"Topic3\", \"Topic3\", \"Topic3\", \"Topic3\", \"Topic3\", \"Topic3\", \"Topic3\", \"Topic3\", \"Topic3\", \"Topic3\", \"Topic3\", \"Topic3\", \"Topic3\", \"Topic3\", \"Topic3\", \"Topic3\", \"Topic4\", \"Topic4\", \"Topic4\", \"Topic4\", \"Topic4\", \"Topic4\", \"Topic4\", \"Topic4\", \"Topic4\", \"Topic4\", \"Topic4\", \"Topic4\", \"Topic4\", \"Topic4\", \"Topic4\", \"Topic4\", \"Topic4\", \"Topic4\", \"Topic4\", \"Topic4\", \"Topic4\", \"Topic4\", \"Topic4\", \"Topic4\", \"Topic4\", \"Topic4\", \"Topic4\", \"Topic4\", \"Topic4\", \"Topic4\", \"Topic4\", \"Topic4\", \"Topic4\", \"Topic4\", \"Topic4\", \"Topic4\", \"Topic4\", \"Topic4\", \"Topic4\", \"Topic4\", \"Topic4\", \"Topic4\", \"Topic4\", \"Topic4\", \"Topic4\", \"Topic4\", \"Topic4\", \"Topic4\", \"Topic4\", \"Topic4\", \"Topic4\", \"Topic4\", \"Topic4\", \"Topic4\", \"Topic4\", \"Topic4\", \"Topic4\", \"Topic4\", \"Topic4\", \"Topic4\", \"Topic4\", \"Topic4\", \"Topic4\", \"Topic4\", \"Topic4\"], \"logprob\": [30.0, 29.0, 28.0, 27.0, 26.0, 25.0, 24.0, 23.0, 22.0, 21.0, 20.0, 19.0, 18.0, 17.0, 16.0, 15.0, 14.0, 13.0, 12.0, 11.0, 10.0, 9.0, 8.0, 7.0, 6.0, 5.0, 4.0, 3.0, 2.0, 1.0, -5.7165, -6.4051, -6.6587, -6.7821, -6.8497, -6.8498, -6.8503, -6.9224, -7.0856, -7.0879, -7.1793, -7.1797, -6.8705, -7.282, -7.2828, -7.2839, -7.2855, -7.3961, -7.3965, -7.3966, -7.3968, -7.3983, -7.3991, -7.4009, -7.4035, -7.4056, -7.4062, -7.5253, -7.5255, -7.5255, -6.0504, -4.9025, -4.7734, -6.4489, -6.4979, -6.4999, -6.4619, -6.3296, -6.1786, -6.564, -5.8779, -6.1187, -7.0614, -5.0148, -5.8954, -6.4428, -6.4141, -6.0526, -4.7525, -4.7505, -6.0428, -5.9339, -4.9477, -5.0668, -5.7229, -5.6274, -5.3808, -5.774, -6.0096, -5.1961, -5.4162, -5.6582, -5.7742, -5.8051, -5.818, -5.6605, -5.9012, -6.0036, -5.8585, -5.9462, -5.9426, -5.9666, -6.0225, -6.373, -6.4368, -6.5774, -6.6555, -6.7416, -6.8344, -6.8351, -5.8642, -6.9366, -6.9366, -7.0508, -7.051, -7.0512, -7.0513, -7.0523, -7.0549, -7.0551, -7.18, -7.1802, -7.1803, -7.1804, -7.1804, -7.1805, -7.1806, -7.1806, -7.181, -7.1812, -7.1815, -7.1828, -6.9631, -6.9683, -5.1625, -6.6038, -4.8435, -5.8152, -6.1135, -5.021, -6.8382, -6.3341, -5.2741, -6.0579, -6.373, -5.9209, -6.2605, -5.5845, -6.3657, -6.0051, -5.2552, -5.9523, -5.2628, -6.3308, -5.3078, -5.8839, -6.1007, -5.8354, -5.1572, -5.5254, -5.4347, -5.8778, -5.6714, -5.7213, -5.6867, -5.8029, -5.442, -5.6906, -5.8897, -5.5373, -5.7962, -5.6381, -5.8276, -5.8613, -5.9256, -6.2175, -6.3581, -6.4371, -6.8334, -6.9609, -6.961, -6.9613, -6.9613, -6.9617, -6.9617, -6.9621, -7.1097, -7.1098, -7.1101, -7.1102, -7.1172, -7.2839, -7.2839, -7.2847, -7.2847, -7.2864, -6.4366, -7.4951, -7.4953, -7.4953, -7.4953, -7.4954, -7.4954, -7.4954, -7.4956, -5.2761, -5.5656, -6.8326, -5.7133, -6.9612, -7.1922, -6.5219, -6.7173, -5.6703, -6.2911, -5.9371, -5.8139, -6.6917, -4.7174, -5.7507, -4.9106, -5.2764, -5.2859, -5.7729, -5.8292, -5.5664, -5.6735, -5.4634, -5.6765, -5.2322, -6.4227, -5.736, -5.9181, -6.1445, -5.7901, -5.8004, -5.8749, -5.8122, -5.7705, -5.5624, -5.9192, -5.8247, -5.774, -5.7834, -5.8782, -5.6608, -5.9808, -6.1456, -6.3403, -6.4545, -6.4546, -6.4547, -6.4551, -6.4556, -5.6604, -6.584, -6.5845, -6.5845, -6.7323, -6.7323, -6.7324, -6.7324, -6.7326, -6.9065, -6.9067, -6.907, -6.9076, -7.1177, -7.1178, -7.1178, -7.1179, -7.1179, -7.1179, -7.1179, -7.118, -5.6116, -6.2374, -6.2381, -6.5838, -5.9246, -6.3399, -5.9827, -6.1465, -6.0654, -5.427, -6.2367, -5.5374, -5.2338, -5.3742, -5.9806, -6.238, -5.3723, -5.1936, -5.3273, -5.5643, -5.7967, -5.7234, -5.794, -5.8521, -5.7277, -5.8216, -5.7901, -5.8998, -5.7567, -5.9955, -6.0297, -5.9147, -5.9776, -5.9973, -6.0406], \"loglift\": [30.0, 29.0, 28.0, 27.0, 26.0, 25.0, 24.0, 23.0, 22.0, 21.0, 20.0, 19.0, 18.0, 17.0, 16.0, 15.0, 14.0, 13.0, 12.0, 11.0, 10.0, 9.0, 8.0, 7.0, 6.0, 5.0, 4.0, 3.0, 2.0, 1.0, 0.8921, 0.8768, 0.8694, 0.8645, 0.8618, 0.8617, 0.8612, 0.8586, 0.8506, 0.8485, 0.8448, 0.8444, 0.8424, 0.8382, 0.8375, 0.8365, 0.835, 0.8305, 0.8302, 0.8301, 0.8299, 0.8285, 0.8278, 0.8261, 0.8237, 0.8217, 0.8211, 0.8205, 0.8203, 0.8203, 0.8199, 0.7765, 0.767, 0.7991, 0.7933, 0.788, 0.7855, 0.7727, 0.7526, 0.7732, 0.7035, 0.709, 0.8004, 0.5647, 0.6543, 0.6975, 0.688, 0.6226, 0.3754, 0.3607, 0.6067, 0.5602, 0.2553, 0.2591, 0.4561, 0.4046, 0.3085, 0.3811, 0.4546, -0.0151, 0.1054, 0.146, 0.2289, 0.2108, 0.2191, -0.0312, 0.2176, 0.2695, -0.0033, -0.1077, -0.2069, -0.0189, -0.0477, 1.2782, 1.2751, 1.2683, 1.2645, 1.2588, 1.2532, 1.2525, 1.2493, 1.2466, 1.2465, 1.238, 1.2378, 1.2377, 1.2376, 1.2367, 1.2338, 1.2338, 1.2271, 1.2269, 1.2268, 1.2267, 1.2267, 1.2266, 1.2265, 1.2264, 1.2261, 1.2258, 1.2255, 1.2244, 1.2211, 1.2131, 1.0883, 1.1666, 0.9645, 1.0394, 1.0585, 0.8507, 1.156, 1.0333, 0.6966, 0.88, 0.9717, 0.8161, 0.927, 0.6593, 0.966, 0.8084, 0.4806, 0.7746, 0.4035, 0.8911, 0.3065, 0.6133, 0.7079, 0.5144, -0.0293, 0.2029, 0.0868, 0.4759, 0.2764, 0.2717, 0.1686, 0.2505, -0.239, -0.0613, 0.2876, -0.4261, 0.0423, -0.4571, -0.0233, 0.1022, 0.1932, 1.5353, 1.5281, 1.5231, 1.494, 1.4843, 1.4842, 1.4839, 1.4838, 1.4835, 1.4834, 1.483, 1.4688, 1.4686, 1.4684, 1.4682, 1.4613, 1.4484, 1.4484, 1.4476, 1.4476, 1.446, 1.4413, 1.4192, 1.419, 1.4189, 1.4189, 1.4189, 1.4188, 1.4188, 1.4187, 1.4114, 1.3693, 1.3779, 1.244, 1.3615, 1.3835, 1.2817, 1.3061, 1.1397, 1.2199, 1.1213, 1.0118, 1.2591, 0.4636, 0.8159, 0.4153, 0.3899, 0.3434, 0.6416, 0.6498, 0.4084, 0.3585, 0.1509, 0.3165, -0.121, 0.9675, 0.2275, 0.3976, 0.6341, 0.213, 0.2155, 0.2802, 0.1356, 0.068, -0.3594, 0.2581, -0.0964, -0.2525, -0.6555, -0.2987, 2.0309, 2.0137, 2.0012, 1.9867, 1.9765, 1.9763, 1.9762, 1.9758, 1.9752, 1.9678, 1.9628, 1.9623, 1.9622, 1.9456, 1.9456, 1.9455, 1.9454, 1.9453, 1.9224, 1.9221, 1.9218, 1.9212, 1.889, 1.8888, 1.8888, 1.8888, 1.8888, 1.8888, 1.8888, 1.8887, 1.8131, 1.8082, 1.8036, 1.8195, 1.7293, 1.7765, 1.7116, 1.5826, 1.4509, 1.0492, 1.51, 0.9534, 0.4945, 0.6188, 1.2072, 1.3511, 0.242, 0.0094, -0.1464, 0.2437, 0.6133, 0.1151, 0.1807, 0.185, -0.2061, 0.05, -0.1238, 0.0638, -0.6455, 0.2599, 0.3582, -0.5888, -0.1734, -0.308, -0.0247]}, \"token.table\": {\"Topic\": [1, 2, 3, 1, 2, 3, 1, 2, 3, 4, 2, 4, 1, 1, 2, 3, 1, 4, 1, 2, 3, 4, 1, 1, 1, 2, 4, 3, 1, 2, 4, 3, 1, 2, 2, 3, 2, 4, 1, 4, 2, 4, 3, 1, 2, 3, 4, 1, 2, 3, 1, 2, 3, 1, 3, 4, 1, 2, 3, 2, 4, 3, 1, 2, 3, 2, 3, 4, 1, 2, 3, 4, 2, 4, 2, 1, 1, 2, 3, 4, 1, 2, 3, 4, 2, 2, 1, 2, 4, 4, 4, 1, 2, 3, 4, 1, 2, 3, 4, 4, 3, 4, 1, 3, 1, 2, 3, 4, 1, 1, 2, 3, 4, 3, 1, 2, 3, 4, 4, 1, 2, 3, 4, 2, 1, 2, 3, 4, 1, 2, 3, 1, 3, 1, 2, 3, 4, 1, 2, 2, 1, 2, 3, 4, 1, 2, 4, 3, 2, 3, 1, 2, 1, 3, 4, 1, 2, 3, 4, 3, 1, 2, 1, 2, 3, 4, 1, 1, 3, 2, 1, 2, 3, 4, 1, 2, 3, 4, 1, 2, 1, 1, 2, 3, 4, 1, 2, 3, 4, 1, 2, 3, 4, 1, 2, 3, 4, 1, 1, 2, 3, 4, 1, 2, 4, 4, 4, 1, 1, 2, 3, 4, 1, 2, 3, 4, 1, 2, 3, 4, 2, 3, 4, 1, 3, 3, 4, 4, 1, 2, 3, 1, 1, 2, 1, 3, 1, 1, 1, 1, 2, 3, 4, 2, 1, 2, 3, 4, 1, 2, 3, 4, 4, 1, 2, 3, 1, 2, 3, 4, 1, 2, 4, 1, 2, 3, 4, 1, 2, 3, 1, 2, 3, 4, 3, 4, 1, 2, 3, 4, 1, 4, 3, 1, 2, 3, 4, 1, 2, 3, 4, 4, 2, 4, 4, 1, 2, 3, 4, 2, 1, 2, 3, 4, 2, 1, 2, 3, 4, 2, 1, 2, 3, 4, 4, 3, 3, 1, 2, 3, 4, 4, 3, 1, 2, 3, 4, 1, 2, 3, 4, 1, 2, 3, 4, 2, 2, 4, 1, 2, 1, 3, 2, 3, 2, 1, 3, 4, 1, 3, 1, 2, 3, 2, 1, 2, 3, 4, 1, 2, 4, 1, 1, 2, 3, 4, 1, 2, 3, 4, 3, 1, 2, 3, 1, 3, 1, 3, 1, 2, 3, 4, 1, 2, 3, 4, 1, 1, 2, 3, 4, 4, 3, 1, 4, 2, 2, 3, 4, 1, 2, 1, 2, 3, 4, 1, 2, 3, 4, 4, 1, 3, 4, 3, 4, 3, 1, 2, 2, 1, 2, 3, 4, 4, 1, 2, 3, 4, 3, 1, 2, 3, 1, 3, 4, 1, 1, 2, 3, 4, 1, 2, 3, 4, 1, 4, 1, 2, 3, 4, 1, 2, 3, 4, 1, 2, 1, 2, 3, 1, 2, 3, 1, 3, 1, 4, 3, 1, 2, 3, 2, 1, 2, 3, 4, 2, 3, 4, 1, 2, 4, 1, 2, 3, 4, 2, 3, 1, 2, 3, 4, 2], \"Freq\": [0.7276578048221751, 0.233890008692842, 0.02598777874364911, 0.9409456273597618, 0.9040824937733204, 0.8942510030900858, 0.5199467614276463, 0.20797870457105852, 0.1406914766215984, 0.12845743517624203, 0.9852591559272141, 0.8233359950544293, 0.9031535058667529, 0.7465695640792274, 0.1333159935855763, 0.10665279486846105, 0.8810904368694311, 0.9189430605339748, 0.3993342627046577, 0.34780726106534704, 0.23187150737689802, 0.012881750409827667, 0.8811942025734825, 0.8812228310957096, 0.22161809498720172, 0.07387269832906723, 0.6648542849616051, 0.7506397937044649, 0.3325793462542032, 0.3325793462542032, 0.3325793462542032, 0.9392051363434071, 0.880682251255074, 0.9371049260882994, 0.13849530431111012, 0.8309718258666607, 0.9455127566610798, 0.9258924447841076, 0.06914902418593862, 0.898937314417202, 0.20912186678882677, 0.7319265337608937, 0.894206131789165, 0.5256822331667995, 0.0968362008465157, 0.31125921700665765, 0.06916871489036837, 0.08241370040112114, 0.16482740080224229, 0.7417233036100902, 0.38153008531563515, 0.054504297902233594, 0.5450429790223359, 0.8074184179855207, 0.12421821815161857, 0.031054554537904643, 0.04132975618299375, 0.9092546360258624, 0.9398868356292223, 0.9040688781467787, 0.823352838673795, 0.7506481089211614, 0.07970997065698837, 0.8768096772268721, 0.8942510101008402, 0.10497071582429794, 0.10497071582429794, 0.7347950107700856, 0.4205353322951871, 0.24531227717219245, 0.15770074961069513, 0.15770074961069513, 0.9906946652541903, 0.9188237615649594, 0.9040753387698518, 0.9048868264890632, 0.3838167130978926, 0.1588207088680935, 0.30440635866384586, 0.14558564979575236, 0.27928239832790686, 0.33100136098122296, 0.18618826555193793, 0.20687585061326436, 0.8440119423542001, 0.9040730900798458, 0.08763381969730873, 0.7887043772757786, 0.1314507295459631, 0.9189103718875054, 0.8663701175209835, 0.503775704068021, 0.1906178339716836, 0.25869563181871347, 0.05446223827762389, 0.49644493723666716, 0.12411123430916679, 0.24822246861833358, 0.12411123430916679, 0.9259423970643254, 0.9391868858905216, 0.8233376923836884, 0.8066131020181272, 0.1698132846353952, 0.9074510110413565, 0.03240896468004845, 0.03240896468004845, 0.03240896468004845, 0.9048426009313942, 0.4163436205865552, 0.10956411068067243, 0.3944307984504207, 0.08765128854453794, 0.7506417785139747, 0.3241082851967693, 0.35651911371644623, 0.25928662815741543, 0.048616242779515394, 0.9188800852641983, 0.23031025220214998, 0.64486870616602, 0.09212410088086, 0.04606205044043, 0.9040756870963665, 0.507074430705015, 0.2394518144995904, 0.09859780597041957, 0.15493940938208792, 0.8977325618649779, 0.04724908220341989, 0.04724908220341989, 0.888607711711346, 0.09873419019014956, 0.09570766580631296, 0.7656613264505037, 0.06380511053754197, 0.06380511053754197, 0.880659748119351, 0.9258522891914963, 0.9041295078054924, 0.35704117663358037, 0.490931617871173, 0.13389044123759264, 0.022315073539598773, 0.5342411878513031, 0.0445200989876086, 0.40068089088847736, 0.8343921785406531, 0.17836379252898327, 0.8918189626449163, 0.19186321802732725, 0.7848949828390661, 0.13496588448686936, 0.83678848381859, 0.02699317689737387, 0.3800956583564404, 0.20005034650338965, 0.2400604158040676, 0.1800453118530507, 0.8343978943409944, 0.8806582120171724, 0.9636087933272125, 0.7118533723641447, 0.2002087609774157, 0.044490835772759044, 0.044490835772759044, 0.9246490529591842, 0.8733998106217927, 0.08733998106217927, 0.9040709584808925, 0.46870523430997757, 0.2566719140268925, 0.1673947265392777, 0.10043683592356661, 0.8763677657661864, 0.029540486486500664, 0.03938731531533422, 0.049234144144167775, 0.8503572606891546, 0.9371360060787242, 0.8807762123497905, 0.5043840686541691, 0.32097168005265303, 0.12227492573434401, 0.045853097150379, 0.17906336658777827, 0.6207530041709647, 0.07162534663511132, 0.13131313549770407, 0.6260976460669748, 0.1943061660207853, 0.12953744401385686, 0.04317914800461896, 0.18471566500396697, 0.39859696132434974, 0.3013781902696303, 0.1069406481601914, 0.9667765271368923, 0.2876023883220301, 0.2670593605847423, 0.39031752700846944, 0.0616290832118636, 0.18548741954680897, 0.24731655939574532, 0.556462258640427, 0.8233404397631102, 0.9257252166605123, 0.9050953140544707, 0.39493470412698256, 0.16754805629629563, 0.323128394285713, 0.10770946476190434, 0.2185366261905529, 0.2403902888096082, 0.1748293009524423, 0.3496586019048846, 0.4305431190700098, 0.0956762486822244, 0.4544621812405659, 0.0239190621705561, 0.19095972385558002, 0.7638388954223201, 0.8663207092837669, 0.8503585049266915, 0.939134462593333, 0.7506185101948539, 0.7901911368249736, 0.9736490214840683, 0.12300160423580998, 0.18450240635371498, 0.6765088232969549, 0.938477995220655, 0.8809168633425654, 0.9029234093618337, 0.8806311715052333, 0.973930150624887, 0.9781889984284639, 0.9770771671620503, 0.9411438178982594, 0.5025401102068775, 0.11167558004597279, 0.29780154678926074, 0.07445038669731519, 0.937154180456141, 0.17320162804854042, 0.5196048841456212, 0.2598024420728106, 0.05196048841456213, 0.399293586887577, 0.3170860837048406, 0.1879028644176833, 0.09395143220884165, 0.8233440872755283, 0.8609718078518931, 0.06887774462815145, 0.06887774462815145, 0.17802506683063582, 0.6675940006148844, 0.13351880012297687, 0.044506266707658955, 0.8583062296473302, 0.04087172522130143, 0.08174345044260287, 0.3230495871591967, 0.4272591314040988, 0.16673527079184344, 0.0729466809714315, 0.20534052571934208, 0.10267026285967104, 0.7186918400176973, 0.34665931744234924, 0.44295357228744625, 0.1540708077521552, 0.05777655290705821, 0.8942215019759555, 0.8662956423512165, 0.14182322673363332, 0.5956575522812598, 0.14182322673363332, 0.11345858138690665, 0.9771138785776682, 0.8977042010979084, 0.7506424855089192, 0.7760619341952497, 0.02351702830894696, 0.18813622647157568, 0.02351702830894696, 0.0778494696804111, 0.1556989393608222, 0.2335484090412333, 0.5449462877628777, 0.9292081901386299, 0.9040598334571809, 0.790154408577565, 0.9258530723407571, 0.1767709040750496, 0.07070836163001985, 0.7070836163001984, 0.07070836163001985, 0.9040489849503115, 0.21088122425181557, 0.5403831371452774, 0.17134099470460015, 0.09226053561016931, 0.9370346507597261, 0.3934771102741887, 0.25294957089054987, 0.29042358139285357, 0.06557951837903145, 0.937154447329345, 0.4458026207822752, 0.2943979571203704, 0.15981603386534396, 0.10093644244126987, 0.8233288903321264, 0.9391356853123909, 0.7506400024661579, 0.06720844653364828, 0.694487280847699, 0.06720844653364828, 0.15681970857851266, 0.7901620283711551, 0.9390859736093845, 0.1347789633790161, 0.3504253047854418, 0.2830358230959338, 0.22912423774432736, 0.5901517343059056, 0.26102865171222744, 0.10781618222896353, 0.04539628725430043, 0.5864361582787488, 0.03169925179885129, 0.269443640290236, 0.09509775539655387, 0.9040228777273166, 0.2838000460784744, 0.709500115196186, 0.2570260545655215, 0.7196729527834602, 0.9049336528167538, 0.8343354387448277, 0.17285652374299632, 0.795140009217783, 0.9635843634442626, 0.878771907491227, 0.10338493029308553, 0.8233394672876845, 0.9860549089554552, 0.8343990217968538, 0.27381071050096517, 0.07823163157170433, 0.6258530525736347, 0.9040694859118302, 0.3351612760132654, 0.5484457243853434, 0.09140762073089057, 0.060938413820593715, 0.11283798651858769, 0.11283798651858769, 0.7898659056301138, 0.8503230616422222, 0.6025795039567261, 0.05605390734481173, 0.2942830135602616, 0.0420404305086088, 0.3719252181470892, 0.030993768178924096, 0.5578878272206338, 0.030993768178924096, 0.939127152213421, 0.15624761053066638, 0.7291555158097764, 0.15624761053066638, 0.9728640140234327, 0.9637654939378224, 0.08875952304053544, 0.8875952304053545, 0.5803717934778306, 0.1729954384405072, 0.18415643446892702, 0.06696597617051891, 0.10402611999540262, 0.6588320933042165, 0.17337686665900437, 0.06935074666360175, 0.9770509371045408, 0.37225227446632847, 0.34361748412276477, 0.18612613723316423, 0.10022176620247306, 0.7901851039627856, 0.7506454537994354, 0.4655154422811787, 0.4655154422811787, 0.9774697581069489, 0.7458787411648226, 0.1598311588210334, 0.10655410588068893, 0.09971714854502037, 0.7977371883601629, 0.7130583765192035, 0.10695875647788053, 0.15152490501033075, 0.035652918825960174, 0.2755732093409862, 0.612384909646636, 0.061238490964663606, 0.061238490964663606, 0.9258801575033838, 0.11266307429010891, 0.11266307429010891, 0.7886415200307624, 0.9391838550781336, 0.9578900288207709, 0.984536523375789, 0.8808585069597198, 0.9040186784260213, 0.8416259786287469, 0.35802746394693696, 0.2771825527331125, 0.21943618758038072, 0.13859127636655624, 0.7901917153428661, 0.23996333146500434, 0.35994499719750656, 0.23996333146500434, 0.15689910134250284, 0.8942080905190671, 0.21357421812508154, 0.15255301294648682, 0.6407226543752446, 0.8983076157226706, 0.09455869639186006, 0.8233157771663284, 0.9245708970877063, 0.2706680689641664, 0.42533553694369003, 0.1740009014769641, 0.1353340344820832, 0.5350503126266839, 0.16051509378800516, 0.19618511462978408, 0.12484507294622624, 0.15010827085114167, 0.7505413542557084, 0.3140952181606352, 0.30100791740394206, 0.26174601513386264, 0.13087300756693132, 0.34768135216510554, 0.32722950792009936, 0.10225922122503105, 0.2249702866950683, 0.8856601732874028, 0.09840668592082252, 0.8253930465593402, 0.09710506430109885, 0.09710506430109885, 0.8657708075539199, 0.12000783471044434, 0.008571988193603167, 0.12379381439878859, 0.8665567007915201, 0.3824495025780201, 0.611919204124832, 0.7506526001013333, 0.5026603144694939, 0.11827301516929269, 0.3843872993002012, 0.9371534110003682, 0.1965429062080697, 0.5896287186242091, 0.16846534817834544, 0.05615511605944848, 0.5951348472857205, 0.08501926389796008, 0.3400770555918403, 0.8172396749868788, 0.16344793499737575, 0.04086198374934394, 0.6331428799519, 0.09740659691567692, 0.1298754625542359, 0.1298754625542359, 0.937229908281707, 0.8342997922253869, 0.5471408141004792, 0.20890831083836478, 0.14922022202740343, 0.08953213321644204, 0.9852043580326626], \"Term\": [\"age\", \"age\", \"age\", \"airborne\", \"align\", \"almora\", \"also\", \"also\", \"also\", \"also\", \"amazon\", \"amend\", \"anand\", \"announce\", \"announce\", \"announce\", \"announcement\", \"anthem\", \"april\", \"april\", \"april\", \"april\", \"astrazeneca\", \"baby\", \"bank\", \"bank\", \"bank\", \"bcci\", \"bed\", \"bed\", \"bed\", \"bhandup\", \"bharat\", \"binge\", \"bold\", \"bold\", \"britney\", \"burn\", \"burning\", \"burning\", \"capture\", \"capture\", \"carlyle\", \"case\", \"case\", \"case\", \"case\", \"cell\", \"cell\", \"cell\", \"cent\", \"cent\", \"cent\", \"chief\", \"chief\", \"chief\", \"child\", \"child\", \"chip\", \"cinema\", \"clarity\", \"classy\", \"clothes\", \"clothes\", \"colleague\", \"combine\", \"combine\", \"combine\", \"come\", \"come\", \"come\", \"come\", \"concentrators\", \"convert\", \"cookie\", \"cough\", \"country\", \"country\", \"country\", \"country\", \"covid\", \"covid\", \"covid\", \"covid\", \"cred\", \"croma\", \"cylinder\", \"cylinder\", \"cylinder\", \"daenerys\", \"danny\", \"day\", \"day\", \"day\", \"day\", \"death\", \"death\", \"death\", \"death\", \"debate\", \"devrari\", \"dilemma\", \"district\", \"district\", \"dose\", \"dose\", \"dose\", \"dose\", \"dry\", \"due\", \"due\", \"due\", \"due\", \"edgy\", \"emailaddr\", \"emailaddr\", \"emailaddr\", \"emailaddr\", \"enquiry\", \"ensure\", \"ensure\", \"ensure\", \"ensure\", \"european\", \"even\", \"even\", \"even\", \"even\", \"event\", \"event\", \"event\", \"evidence\", \"evidence\", \"experience\", \"experience\", \"experience\", \"experience\", \"export\", \"faasil\", \"fame\", \"family\", \"family\", \"family\", \"family\", \"farmer\", \"farmer\", \"farmer\", \"fashion\", \"favourite\", \"favourite\", \"film\", \"film\", \"fire\", \"fire\", \"fire\", \"first\", \"first\", \"first\", \"first\", \"floral\", \"formula\", \"founder\", \"free\", \"free\", \"free\", \"free\", \"fuel\", \"gathering\", \"gathering\", \"germ\", \"get\", \"get\", \"get\", \"get\", \"government\", \"government\", \"government\", \"government\", \"grower\", \"gurmeet\", \"haridwar\", \"health\", \"health\", \"health\", \"health\", \"help\", \"help\", \"help\", \"help\", \"home\", \"home\", \"home\", \"home\", \"hospital\", \"hospital\", \"hospital\", \"hospital\", \"hotel\", \"hour\", \"hour\", \"hour\", \"hour\", \"httpadd\", \"httpadd\", \"httpadd\", \"hundred\", \"i\", \"idli\", \"india\", \"india\", \"india\", \"india\", \"indian\", \"indian\", \"indian\", \"indian\", \"infection\", \"infection\", \"infection\", \"infection\", \"ipl\", \"ipl\", \"ipo\", \"irrigation\", \"jacqueline\", \"jane\", \"joffrey\", \"jon\", \"kapoor\", \"kapoor\", \"kapoor\", \"kashmir\", \"kejriwal\", \"kid\", \"kit\", \"kiyana\", \"kumbh\", \"lam\", \"land\", \"last\", \"last\", \"last\", \"last\", \"laundry\", \"life\", \"life\", \"life\", \"life\", \"like\", \"like\", \"like\", \"like\", \"listen\", \"lockdown\", \"lockdown\", \"lockdown\", \"love\", \"love\", \"love\", \"love\", \"mahindra\", \"mahindra\", \"mahindra\", \"make\", \"make\", \"make\", \"make\", \"mall\", \"mall\", \"mall\", \"many\", \"many\", \"many\", \"many\", \"match\", \"mccarthy\", \"medium\", \"medium\", \"medium\", \"medium\", \"mela\", \"mg\", \"mini\", \"minister\", \"minister\", \"minister\", \"minister\", \"moment\", \"moment\", \"moment\", \"moment\", \"moon\", \"morris\", \"mosque\", \"mtar\", \"mumbai\", \"mumbai\", \"mumbai\", \"mumbai\", \"ndhm\", \"need\", \"need\", \"need\", \"need\", \"needy\", \"new\", \"new\", \"new\", \"new\", \"nostril\", \"one\", \"one\", \"one\", \"one\", \"oppose\", \"oral\", \"outfit\", \"oxygen\", \"oxygen\", \"oxygen\", \"oxygen\", \"paddy\", \"pakistanstandswithindia\", \"patient\", \"patient\", \"patient\", \"patient\", \"people\", \"people\", \"people\", \"people\", \"per\", \"per\", \"per\", \"per\", \"pichai\", \"plasma\", \"plasma\", \"please\", \"please\", \"population\", \"prayer\", \"print\", \"print\", \"privacy\", \"production\", \"production\", \"protestors\", \"racing\", \"raipur\", \"recovery\", \"recovery\", \"recovery\", \"regulation\", \"release\", \"release\", \"release\", \"release\", \"remdesivir\", \"remdesivir\", \"remdesivir\", \"remote\", \"report\", \"report\", \"report\", \"report\", \"rise\", \"rise\", \"rise\", \"rise\", \"rna\", \"role\", \"role\", \"role\", \"saffron\", \"saliva\", \"sample\", \"sample\", \"say\", \"say\", \"say\", \"say\", \"season\", \"season\", \"season\", \"season\", \"serum\", \"show\", \"show\", \"show\", \"show\", \"snow\", \"sonia\", \"space\", \"space\", \"spear\", \"star\", \"star\", \"star\", \"startup\", \"startup\", \"state\", \"state\", \"state\", \"state\", \"story\", \"story\", \"story\", \"story\", \"straw\", \"street\", \"street\", \"street\", \"stripe\", \"stubble\", \"style\", \"suggest\", \"sundar\", \"survive\", \"take\", \"take\", \"take\", \"take\", \"tillage\", \"time\", \"time\", \"time\", \"time\", \"tissue\", \"total\", \"total\", \"total\", \"transmission\", \"transmission\", \"tune\", \"turkish\", \"twitter\", \"twitter\", \"twitter\", \"twitter\", \"two\", \"two\", \"two\", \"two\", \"tyrion\", \"tyrion\", \"u\", \"u\", \"u\", \"u\", \"use\", \"use\", \"use\", \"use\", \"vaccinate\", \"vaccinate\", \"vaccination\", \"vaccination\", \"vaccination\", \"vaccine\", \"vaccine\", \"vaccine\", \"verma\", \"verma\", \"view\", \"view\", \"vintage\", \"virus\", \"virus\", \"virus\", \"wastage\", \"watch\", \"watch\", \"watch\", \"watch\", \"website\", \"website\", \"website\", \"worker\", \"worker\", \"worker\", \"would\", \"would\", \"would\", \"would\", \"yadav\", \"yash\", \"year\", \"year\", \"year\", \"year\", \"yoga\"]}, \"R\": 30, \"lambda.step\": 0.01, \"plot.opts\": {\"xlab\": \"PC1\", \"ylab\": \"PC2\"}, \"topic.order\": [2, 1, 3, 4]};\n",
       "\n",
       "function LDAvis_load_lib(url, callback){\n",
       "  var s = document.createElement('script');\n",
       "  s.src = url;\n",
       "  s.async = true;\n",
       "  s.onreadystatechange = s.onload = callback;\n",
       "  s.onerror = function(){console.warn(\"failed to load library \" + url);};\n",
       "  document.getElementsByTagName(\"head\")[0].appendChild(s);\n",
       "}\n",
       "\n",
       "if(typeof(LDAvis) !== \"undefined\"){\n",
       "   // already loaded: just create the visualization\n",
       "   !function(LDAvis){\n",
       "       new LDAvis(\"#\" + \"ldavis_el161381401384847963205158624678\", ldavis_el161381401384847963205158624678_data);\n",
       "   }(LDAvis);\n",
       "}else if(typeof define === \"function\" && define.amd){\n",
       "   // require.js is available: use it to load d3/LDAvis\n",
       "   require.config({paths: {d3: \"https://d3js.org/d3.v5\"}});\n",
       "   require([\"d3\"], function(d3){\n",
       "      window.d3 = d3;\n",
       "      LDAvis_load_lib(\"https://cdn.jsdelivr.net/gh/bmabey/pyLDAvis@3.3.1/pyLDAvis/js/ldavis.v3.0.0.js\", function(){\n",
       "        new LDAvis(\"#\" + \"ldavis_el161381401384847963205158624678\", ldavis_el161381401384847963205158624678_data);\n",
       "      });\n",
       "    });\n",
       "}else{\n",
       "    // require.js not available: dynamically load d3 & LDAvis\n",
       "    LDAvis_load_lib(\"https://d3js.org/d3.v5.js\", function(){\n",
       "         LDAvis_load_lib(\"https://cdn.jsdelivr.net/gh/bmabey/pyLDAvis@3.3.1/pyLDAvis/js/ldavis.v3.0.0.js\", function(){\n",
       "                 new LDAvis(\"#\" + \"ldavis_el161381401384847963205158624678\", ldavis_el161381401384847963205158624678_data);\n",
       "            })\n",
       "         });\n",
       "}\n",
       "</script>"
      ],
      "text/plain": [
       "<IPython.core.display.HTML object>"
      ]
     },
     "execution_count": 15,
     "metadata": {},
     "output_type": "execute_result"
    }
   ],
   "source": [
    "from IPython.core.display import display, HTML\n",
    "import pyLDAvis \n",
    "from pyLDAvis  import *\n",
    "import pyLDAvis.gensim_models as gensimvis\n",
    "#display(HTML(\"<style>.container { max-width:100% !important; }</style>\"))\n",
    "#display(HTML(\"<style>.output_result { max-width:100% !important; }</style>\"))\n",
    "#display(HTML(\"<style>.output_area { max-width:100% !important; }</style>\"))\n",
    "#display(HTML(\"<style>.input_area { max-width:100% !important; }</style>\"))\n",
    "%matplotlib inline\n",
    "pyLDAvis.enable_notebook()\n",
    "ldamodel = gensim.models.ldamodel.LdaModel(BoW_corpus, num_topics = 4, id2word=dictionary, passes=15)\n",
    "vis = gensimvis.prepare(ldamodel, BoW_corpus, dictionary=dictionary)\n",
    "pyLDAvis.display(vis)"
   ]
  },
  {
   "cell_type": "markdown",
   "metadata": {},
   "source": [
    "## Conclusion"
   ]
  },
  {
   "cell_type": "markdown",
   "metadata": {},
   "source": [
    "Unsurprisingly, topics are mostly covid related. "
   ]
  },
  {
   "cell_type": "code",
   "execution_count": null,
   "metadata": {},
   "outputs": [],
   "source": []
  }
 ],
 "metadata": {
  "kernelspec": {
   "display_name": "Python 3",
   "language": "python",
   "name": "python3"
  },
  "language_info": {
   "codemirror_mode": {
    "name": "ipython",
    "version": 3
   },
   "file_extension": ".py",
   "mimetype": "text/x-python",
   "name": "python",
   "nbconvert_exporter": "python",
   "pygments_lexer": "ipython3",
   "version": "3.8.5"
  }
 },
 "nbformat": 4,
 "nbformat_minor": 4
}
